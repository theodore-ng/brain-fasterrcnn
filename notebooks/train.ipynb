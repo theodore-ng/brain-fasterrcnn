{
 "cells": [
  {
   "cell_type": "code",
   "execution_count": 45,
   "metadata": {},
   "outputs": [
    {
     "name": "stdout",
     "output_type": "stream",
     "text": [
      "Torch version: 2.1.2+cu121\n"
     ]
    }
   ],
   "source": [
    "import torch\n",
    "import config\n",
    "from utils import (\n",
    "    get_model_instance_segmentation,\n",
    "    collate_fn,\n",
    "    get_transform,\n",
    "    myOwnDataset,\n",
    ")\n",
    "\n",
    "print(\"Torch version:\", torch.__version__)\n"
   ]
  },
  {
   "cell_type": "code",
   "execution_count": 46,
   "metadata": {},
   "outputs": [
    {
     "name": "stdout",
     "output_type": "stream",
     "text": [
      "loading annotations into memory...\n",
      "Done (t=0.01s)\n",
      "creating index...\n",
      "index created!\n"
     ]
    }
   ],
   "source": [
    "# create own Dataset\n",
    "my_dataset = myOwnDataset(\n",
    "    root=config.train_data_dir, annotation=config.train_coco, transforms=get_transform()\n",
    ")\n",
    "\n",
    "# own DataLoader\n",
    "data_loader = torch.utils.data.DataLoader(\n",
    "    my_dataset,\n",
    "    batch_size=config.train_batch_size,\n",
    "    shuffle=config.train_shuffle_dl,\n",
    "    num_workers=config.num_workers_dl,\n",
    "    collate_fn=collate_fn,\n",
    ")"
   ]
  },
  {
   "cell_type": "code",
   "execution_count": 47,
   "metadata": {},
   "outputs": [
    {
     "name": "stdout",
     "output_type": "stream",
     "text": [
      "[{'boxes': tensor([[227.0000, 492.0000, 289.5000, 559.0000]], device='cuda:0'), 'labels': tensor([1], device='cuda:0'), 'image_id': tensor([16], device='cuda:0'), 'area': tensor([4187.5000], device='cuda:0'), 'iscrowd': tensor([0], device='cuda:0')}, {'boxes': tensor([[205.0000, 238.0000, 279.0000, 385.5000],\n",
      "        [339.0000, 250.0000, 407.0000, 380.5000]], device='cuda:0'), 'labels': tensor([1, 1], device='cuda:0'), 'image_id': tensor([4], device='cuda:0'), 'area': tensor([10915.,  8874.], device='cuda:0'), 'iscrowd': tensor([0, 0], device='cuda:0')}, {'boxes': tensor([[129.0000, 414.0000, 295.5000, 578.5000]], device='cuda:0'), 'labels': tensor([1], device='cuda:0'), 'image_id': tensor([27], device='cuda:0'), 'area': tensor([27389.2500], device='cuda:0'), 'iscrowd': tensor([0], device='cuda:0')}, {'boxes': tensor([[141.,  64., 294., 211.]], device='cuda:0'), 'labels': tensor([1], device='cuda:0'), 'image_id': tensor([3], device='cuda:0'), 'area': tensor([22491.], device='cuda:0'), 'iscrowd': tensor([0], device='cuda:0')}]\n",
      "[{'boxes': tensor([[131.0000, 389.0000, 297.0000, 585.5000]], device='cuda:0'), 'labels': tensor([1], device='cuda:0'), 'image_id': tensor([34], device='cuda:0'), 'area': tensor([32619.], device='cuda:0'), 'iscrowd': tensor([0], device='cuda:0')}, {'boxes': tensor([[141., 430., 294., 577.]], device='cuda:0'), 'labels': tensor([1], device='cuda:0'), 'image_id': tensor([36], device='cuda:0'), 'area': tensor([22491.], device='cuda:0'), 'iscrowd': tensor([0], device='cuda:0')}, {'boxes': tensor([[130., 416., 293., 586.]], device='cuda:0'), 'labels': tensor([1], device='cuda:0'), 'image_id': tensor([9], device='cuda:0'), 'area': tensor([27710.], device='cuda:0'), 'iscrowd': tensor([0], device='cuda:0')}, {'boxes': tensor([[139.0000,  57.0000, 270.5000, 215.0000]], device='cuda:0'), 'labels': tensor([1], device='cuda:0'), 'image_id': tensor([33], device='cuda:0'), 'area': tensor([20777.], device='cuda:0'), 'iscrowd': tensor([0], device='cuda:0')}]\n",
      "[{'boxes': tensor([[148., 427., 284., 577.]], device='cuda:0'), 'labels': tensor([1], device='cuda:0'), 'image_id': tensor([44], device='cuda:0'), 'area': tensor([20400.], device='cuda:0'), 'iscrowd': tensor([0], device='cuda:0')}, {'boxes': tensor([[341.0000, 243.0000, 412.0000, 382.5000],\n",
      "        [199.0000, 255.0000, 269.5000, 393.0000]], device='cuda:0'), 'labels': tensor([1, 1], device='cuda:0'), 'image_id': tensor([41], device='cuda:0'), 'area': tensor([9904.5000, 9729.0000], device='cuda:0'), 'iscrowd': tensor([0, 0], device='cuda:0')}, {'boxes': tensor([[148.,  64., 284., 214.]], device='cuda:0'), 'labels': tensor([1], device='cuda:0'), 'image_id': tensor([40], device='cuda:0'), 'area': tensor([20400.], device='cuda:0'), 'iscrowd': tensor([0], device='cuda:0')}, {'boxes': tensor([[221.0000, 231.0000, 262.5000, 275.5000]], device='cuda:0'), 'labels': tensor([1], device='cuda:0'), 'image_id': tensor([24], device='cuda:0'), 'area': tensor([1846.7500], device='cuda:0'), 'iscrowd': tensor([0], device='cuda:0')}]\n",
      "[{'boxes': tensor([[205.0000,  77.0000, 287.5000, 161.0000]], device='cuda:0'), 'labels': tensor([1], device='cuda:0'), 'image_id': tensor([29], device='cuda:0'), 'area': tensor([6930.], device='cuda:0'), 'iscrowd': tensor([0], device='cuda:0')}, {'boxes': tensor([[125.0000,  54.0000, 287.0000, 232.5000]], device='cuda:0'), 'labels': tensor([1], device='cuda:0'), 'image_id': tensor([1], device='cuda:0'), 'area': tensor([28917.], device='cuda:0'), 'iscrowd': tensor([0], device='cuda:0')}, {'boxes': tensor([[213.0000, 381.0000, 259.5000, 432.0000]], device='cuda:0'), 'labels': tensor([1], device='cuda:0'), 'image_id': tensor([15], device='cuda:0'), 'area': tensor([2371.5000], device='cuda:0'), 'iscrowd': tensor([0], device='cuda:0')}, {'boxes': tensor([[214.0000,  61.0000, 296.0000, 146.5000]], device='cuda:0'), 'labels': tensor([1], device='cuda:0'), 'image_id': tensor([14], device='cuda:0'), 'area': tensor([7011.], device='cuda:0'), 'iscrowd': tensor([0], device='cuda:0')}]\n",
      "[{'boxes': tensor([[214.0000, 215.0000, 254.5000, 260.5000]], device='cuda:0'), 'labels': tensor([1], device='cuda:0'), 'image_id': tensor([26], device='cuda:0'), 'area': tensor([1842.7500], device='cuda:0'), 'iscrowd': tensor([0], device='cuda:0')}, {'boxes': tensor([[227.0000,  81.0000, 289.5000, 148.0000]], device='cuda:0'), 'labels': tensor([1], device='cuda:0'), 'image_id': tensor([23], device='cuda:0'), 'area': tensor([4187.5000], device='cuda:0'), 'iscrowd': tensor([0], device='cuda:0')}, {'boxes': tensor([[213.0000, 209.0000, 259.5000, 260.0000]], device='cuda:0'), 'labels': tensor([1], device='cuda:0'), 'image_id': tensor([28], device='cuda:0'), 'area': tensor([2371.5000], device='cuda:0'), 'iscrowd': tensor([0], device='cuda:0')}, {'boxes': tensor([[159., 433., 291., 575.]], device='cuda:0'), 'labels': tensor([1], device='cuda:0'), 'image_id': tensor([42], device='cuda:0'), 'area': tensor([18744.], device='cuda:0'), 'iscrowd': tensor([0], device='cuda:0')}]\n",
      "[{'boxes': tensor([[125.0000, 407.0000, 287.0000, 585.5000]], device='cuda:0'), 'labels': tensor([1], device='cuda:0'), 'image_id': tensor([8], device='cuda:0'), 'area': tensor([28917.], device='cuda:0'), 'iscrowd': tensor([0], device='cuda:0')}, {'boxes': tensor([[221.0000, 365.0000, 262.5000, 409.5000]], device='cuda:0'), 'labels': tensor([1], device='cuda:0'), 'image_id': tensor([5], device='cuda:0'), 'area': tensor([1846.7500], device='cuda:0'), 'iscrowd': tensor([0], device='cuda:0')}, {'boxes': tensor([[209.0000, 272.0000, 266.5000, 378.5000],\n",
      "        [341.0000, 273.0000, 398.5000, 385.0000]], device='cuda:0'), 'labels': tensor([1, 1], device='cuda:0'), 'image_id': tensor([18], device='cuda:0'), 'area': tensor([6123.7500, 6440.0000], device='cuda:0'), 'iscrowd': tensor([0, 0], device='cuda:0')}, {'boxes': tensor([[129.0000,  61.0000, 295.5000, 225.5000]], device='cuda:0'), 'labels': tensor([1], device='cuda:0'), 'image_id': tensor([30], device='cuda:0'), 'area': tensor([27389.2500], device='cuda:0'), 'iscrowd': tensor([0], device='cuda:0')}]\n",
      "[{'boxes': tensor([[124.0000, 409.0000, 278.5000, 587.0000]], device='cuda:0'), 'labels': tensor([1], device='cuda:0'), 'image_id': tensor([38], device='cuda:0'), 'area': tensor([27501.], device='cuda:0'), 'iscrowd': tensor([0], device='cuda:0')}, {'boxes': tensor([[159.,  66., 291., 208.]], device='cuda:0'), 'labels': tensor([1], device='cuda:0'), 'image_id': tensor([17], device='cuda:0'), 'area': tensor([18744.], device='cuda:0'), 'iscrowd': tensor([0], device='cuda:0')}, {'boxes': tensor([[214.0000, 379.0000, 254.5000, 424.5000]], device='cuda:0'), 'labels': tensor([1], device='cuda:0'), 'image_id': tensor([21], device='cuda:0'), 'area': tensor([1842.7500], device='cuda:0'), 'iscrowd': tensor([0], device='cuda:0')}, {'boxes': tensor([[193.0000, 269.0000, 285.5000, 402.0000],\n",
      "        [342.0000, 258.0000, 424.0000, 390.0000]], device='cuda:0'), 'labels': tensor([1, 1], device='cuda:0'), 'image_id': tensor([31], device='cuda:0'), 'area': tensor([12302.5000, 10824.0000], device='cuda:0'), 'iscrowd': tensor([0, 0], device='cuda:0')}]\n",
      "[{'boxes': tensor([[217.0000, 214.0000, 255.0000, 266.5000]], device='cuda:0'), 'labels': tensor([1], device='cuda:0'), 'image_id': tensor([48], device='cuda:0'), 'area': tensor([1995.], device='cuda:0'), 'iscrowd': tensor([0], device='cuda:0')}, {'boxes': tensor([[139.0000, 426.0000, 270.5000, 584.0000]], device='cuda:0'), 'labels': tensor([1], device='cuda:0'), 'image_id': tensor([43], device='cuda:0'), 'area': tensor([20777.], device='cuda:0'), 'iscrowd': tensor([0], device='cuda:0')}, {'boxes': tensor([[205.0000, 255.0000, 279.0000, 402.5000],\n",
      "        [339.0000, 259.0000, 407.0000, 389.5000]], device='cuda:0'), 'labels': tensor([1, 1], device='cuda:0'), 'image_id': tensor([0], device='cuda:0'), 'area': tensor([10915.,  8874.], device='cuda:0'), 'iscrowd': tensor([0, 0], device='cuda:0')}, {'boxes': tensor([[124.0000, 414.0000, 299.5000, 587.5000]], device='cuda:0'), 'labels': tensor([1], device='cuda:0'), 'image_id': tensor([13], device='cuda:0'), 'area': tensor([30449.2500], device='cuda:0'), 'iscrowd': tensor([0], device='cuda:0')}]\n",
      "[{'boxes': tensor([[205.0000, 480.0000, 287.5000, 564.0000]], device='cuda:0'), 'labels': tensor([1], device='cuda:0'), 'image_id': tensor([45], device='cuda:0'), 'area': tensor([6930.], device='cuda:0'), 'iscrowd': tensor([0], device='cuda:0')}, {'boxes': tensor([[170.0000,  57.0000, 288.5000, 199.5000]], device='cuda:0'), 'labels': tensor([1], device='cuda:0'), 'image_id': tensor([11], device='cuda:0'), 'area': tensor([16886.2500], device='cuda:0'), 'iscrowd': tensor([0], device='cuda:0')}, {'boxes': tensor([[211.0000, 259.0000, 275.5000, 398.0000],\n",
      "        [342.0000, 258.0000, 409.5000, 392.5000]], device='cuda:0'), 'labels': tensor([1, 1], device='cuda:0'), 'image_id': tensor([46], device='cuda:0'), 'area': tensor([8965.5000, 9078.7500], device='cuda:0'), 'iscrowd': tensor([0, 0], device='cuda:0')}, {'boxes': tensor([[201., 205., 261., 258.]], device='cuda:0'), 'labels': tensor([1], device='cuda:0'), 'image_id': tensor([10], device='cuda:0'), 'area': tensor([3180.], device='cuda:0'), 'iscrowd': tensor([0], device='cuda:0')}]\n",
      "[{'boxes': tensor([[170.0000, 441.0000, 288.5000, 583.5000]], device='cuda:0'), 'labels': tensor([1], device='cuda:0'), 'image_id': tensor([39], device='cuda:0'), 'area': tensor([16886.2500], device='cuda:0'), 'iscrowd': tensor([0], device='cuda:0')}, {'boxes': tensor([[130.,  55., 293., 225.]], device='cuda:0'), 'labels': tensor([1], device='cuda:0'), 'image_id': tensor([2], device='cuda:0'), 'area': tensor([27710.], device='cuda:0'), 'iscrowd': tensor([0], device='cuda:0')}, {'boxes': tensor([[341.0000, 257.0000, 412.0000, 396.5000],\n",
      "        [199.0000, 248.0000, 269.5000, 386.0000]], device='cuda:0'), 'labels': tensor([1, 1], device='cuda:0'), 'image_id': tensor([20], device='cuda:0'), 'area': tensor([9904.5000, 9729.0000], device='cuda:0'), 'iscrowd': tensor([0, 0], device='cuda:0')}, {'boxes': tensor([[131.0000,  54.0000, 297.0000, 250.5000]], device='cuda:0'), 'labels': tensor([1], device='cuda:0'), 'image_id': tensor([37], device='cuda:0'), 'area': tensor([32619.], device='cuda:0'), 'iscrowd': tensor([0], device='cuda:0')}]\n",
      "[{'boxes': tensor([[209.0000, 261.0000, 266.5000, 367.5000],\n",
      "        [341.0000, 256.0000, 398.5000, 368.0000]], device='cuda:0'), 'labels': tensor([1, 1], device='cuda:0'), 'image_id': tensor([19], device='cuda:0'), 'area': tensor([6123.7500, 6440.0000], device='cuda:0'), 'iscrowd': tensor([0, 0], device='cuda:0')}, {'boxes': tensor([[124.0000,  52.0000, 299.5000, 225.5000]], device='cuda:0'), 'labels': tensor([1], device='cuda:0'), 'image_id': tensor([47], device='cuda:0'), 'area': tensor([30449.2500], device='cuda:0'), 'iscrowd': tensor([0], device='cuda:0')}, {'boxes': tensor([[211.0000, 242.0000, 275.5000, 381.0000],\n",
      "        [342.0000, 248.0000, 409.5000, 382.5000]], device='cuda:0'), 'labels': tensor([1, 1], device='cuda:0'), 'image_id': tensor([6], device='cuda:0'), 'area': tensor([8965.5000, 9078.7500], device='cuda:0'), 'iscrowd': tensor([0, 0], device='cuda:0')}, {'boxes': tensor([[124.0000,  54.0000, 278.5000, 232.0000]], device='cuda:0'), 'labels': tensor([1], device='cuda:0'), 'image_id': tensor([35], device='cuda:0'), 'area': tensor([27501.], device='cuda:0'), 'iscrowd': tensor([0], device='cuda:0')}]\n",
      "[{'boxes': tensor([[214.0000, 493.0000, 296.0000, 578.5000]], device='cuda:0'), 'labels': tensor([1], device='cuda:0'), 'image_id': tensor([12], device='cuda:0'), 'area': tensor([7011.], device='cuda:0'), 'iscrowd': tensor([0], device='cuda:0')}, {'boxes': tensor([[193.0000, 238.0000, 285.5000, 371.0000],\n",
      "        [342.0000, 250.0000, 424.0000, 382.0000]], device='cuda:0'), 'labels': tensor([1, 1], device='cuda:0'), 'image_id': tensor([25], device='cuda:0'), 'area': tensor([12302.5000, 10824.0000], device='cuda:0'), 'iscrowd': tensor([0, 0], device='cuda:0')}, {'boxes': tensor([[217.0000, 373.0000, 255.0000, 425.5000]], device='cuda:0'), 'labels': tensor([1], device='cuda:0'), 'image_id': tensor([32], device='cuda:0'), 'area': tensor([1995.], device='cuda:0'), 'iscrowd': tensor([0], device='cuda:0')}, {'boxes': tensor([[132., 414., 296., 583.]], device='cuda:0'), 'labels': tensor([1], device='cuda:0'), 'image_id': tensor([22], device='cuda:0'), 'area': tensor([27716.], device='cuda:0'), 'iscrowd': tensor([0], device='cuda:0')}]\n"
     ]
    }
   ],
   "source": [
    "# select device (whether GPU or CPU)\n",
    "device = torch.device(\"cuda\") if torch.cuda.is_available() else torch.device(\"cpu\")\n",
    "\n",
    "# DataLoader is iterable over Dataset\n",
    "for imgs, annotations in data_loader:\n",
    "    imgs = list(img.to(device) for img in imgs)\n",
    "    annotations = [{k: v.to(device) for k, v in t.items()} for t in annotations]\n",
    "    # print(annotations)\n",
    "\n",
    "\n",
    "model = get_model_instance_segmentation(config.num_classes)\n",
    "\n",
    "# move model to the right device\n",
    "model.to(device)\n",
    "\n",
    "# parameters\n",
    "params = [p for p in model.parameters() if p.requires_grad]\n",
    "optimizer = torch.optim.SGD(\n",
    "    params, lr=config.lr, momentum=config.momentum, weight_decay=config.weight_decay\n",
    ")\n",
    "\n",
    "len_dataloader = len(data_loader)"
   ]
  },
  {
   "cell_type": "code",
   "execution_count": 48,
   "metadata": {},
   "outputs": [
    {
     "name": "stdout",
     "output_type": "stream",
     "text": [
      "Epoch: 0/2\n",
      "Iteration: 1/12, Loss: 1.3066667318344116\n",
      "Iteration: 2/12, Loss: 1.1441655158996582\n",
      "Iteration: 3/12, Loss: 0.9766808748245239\n",
      "Iteration: 4/12, Loss: 0.9287682175636292\n",
      "Iteration: 5/12, Loss: 0.8460279703140259\n",
      "Iteration: 6/12, Loss: 0.7232286930084229\n",
      "Iteration: 7/12, Loss: 0.5605407357215881\n",
      "Iteration: 8/12, Loss: 0.46249663829803467\n",
      "Iteration: 9/12, Loss: 0.5101029872894287\n",
      "Iteration: 10/12, Loss: 0.31631985306739807\n",
      "Iteration: 11/12, Loss: 0.4155082702636719\n",
      "Iteration: 12/12, Loss: 0.2142888754606247\n",
      "Epoch: 1/2\n",
      "Iteration: 1/12, Loss: 0.3003377914428711\n",
      "Iteration: 2/12, Loss: 0.25758159160614014\n",
      "Iteration: 3/12, Loss: 0.3800334930419922\n",
      "Iteration: 4/12, Loss: 0.35076072812080383\n",
      "Iteration: 5/12, Loss: 0.21907278895378113\n",
      "Iteration: 6/12, Loss: 0.18857194483280182\n",
      "Iteration: 7/12, Loss: 0.27473384141921997\n",
      "Iteration: 8/12, Loss: 0.15770868957042694\n",
      "Iteration: 9/12, Loss: 0.17649364471435547\n",
      "Iteration: 10/12, Loss: 0.2872791588306427\n",
      "Iteration: 11/12, Loss: 0.26781079173088074\n",
      "Iteration: 12/12, Loss: 0.2540077865123749\n"
     ]
    }
   ],
   "source": [
    "# Training\n",
    "for epoch in range(config.num_epochs):\n",
    "    print(f\"Epoch: {epoch}/{config.num_epochs}\")\n",
    "    model.train()\n",
    "    i = 0\n",
    "    for imgs, annotations in data_loader:\n",
    "        i += 1\n",
    "        imgs = list(img.to(device) for img in imgs)\n",
    "        annotations = [{k: v.to(device) for k, v in t.items()} for t in annotations]\n",
    "        # Debug\n",
    "        # print(annotations)\n",
    "        loss_dict = model(imgs, annotations)\n",
    "        losses = sum(loss for loss in loss_dict.values())\n",
    "        optimizer.zero_grad()\n",
    "        losses.backward()\n",
    "        optimizer.step()\n",
    "\n",
    "        print(f\"Iteration: {i}/{len(data_loader)}, Loss: {losses}\")"
   ]
  }
 ],
 "metadata": {
  "kernelspec": {
   "display_name": "ml_env",
   "language": "python",
   "name": "python3"
  },
  "language_info": {
   "codemirror_mode": {
    "name": "ipython",
    "version": 3
   },
   "file_extension": ".py",
   "mimetype": "text/x-python",
   "name": "python",
   "nbconvert_exporter": "python",
   "pygments_lexer": "ipython3",
   "version": "3.10.12"
  }
 },
 "nbformat": 4,
 "nbformat_minor": 2
}
